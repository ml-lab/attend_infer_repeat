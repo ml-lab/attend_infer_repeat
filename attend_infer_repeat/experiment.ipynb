{
 "cells": [
  {
   "cell_type": "code",
   "execution_count": 1,
   "metadata": {
    "collapsed": true
   },
   "outputs": [],
   "source": [
    "from os import path as osp\n",
    "import numpy as np\n",
    "import tensorflow as tf\n",
    "import sonnet as snt\n",
    "from attrdict import AttrDict\n",
    "\n",
    "from evaluation import make_fig, make_logger\n",
    "\n",
    "from data import load_data, tensors_from_data\n",
    "from mnist_model import AIRonMNIST\n",
    "\n",
    "% matplotlib inline"
   ]
  },
  {
   "cell_type": "code",
   "execution_count": 2,
   "metadata": {
    "collapsed": true
   },
   "outputs": [],
   "source": [
    "learning_rate = 1e-4\n",
    "n_steps = 3\n",
    "\n",
    "results_dir = '../results'\n",
    "run_name = 'notebook'\n",
    "\n",
    "logdir = osp.join(results_dir, run_name)\n",
    "checkpoint_name = osp.join(logdir, 'model.ckpt')\n",
    "axes = {'imgs': 0, 'labels': 0, 'nums': 1}"
   ]
  },
  {
   "cell_type": "code",
   "execution_count": 3,
   "metadata": {
    "collapsed": true
   },
   "outputs": [],
   "source": [
    "batch_size = 64\n",
    "use_prior = True\n",
    "\n",
    "num_steps_prior = AttrDict(\n",
    "    anneal='exp',\n",
    "#     init=1. - 1e-7,\n",
    "    init=.3,\n",
    "    final=1e-5,\n",
    "    steps_div=1e4,\n",
    "    steps=1e5\n",
    ")\n",
    "\n",
    "appearance_prior = AttrDict(loc=0., scale=1.)\n",
    "where_scale_prior = AttrDict(loc=.0, scale=1.)\n",
    "where_shift_prior = AttrDict(scale=1.)\n",
    "\n",
    "use_reinforce = True\n",
    "sample_presence = True\n",
    "step_bias = 0.\n",
    "transform_var_bias = -2.\n",
    "\n",
    "init_explore_eps = .00\n",
    "\n",
    "l2_weight = 0. #1e-5"
   ]
  },
  {
   "cell_type": "code",
   "execution_count": 4,
   "metadata": {
    "collapsed": true
   },
   "outputs": [],
   "source": [
    "valid_data = load_data('mnist_validation.pickle')\n",
    "train_data = load_data('mnist_train.pickle')"
   ]
  },
  {
   "cell_type": "code",
   "execution_count": 5,
   "metadata": {
    "collapsed": true,
    "scrolled": false
   },
   "outputs": [],
   "source": [
    "tf.reset_default_graph()\n",
    "train_tensors = tensors_from_data(train_data, batch_size, axes, shuffle=True)\n",
    "valid_tensors = tensors_from_data(valid_data, batch_size, axes, shuffle=False)\n",
    "x, valid_x = train_tensors['imgs'], valid_tensors['imgs']\n",
    "y, test_y = train_tensors['nums'], valid_tensors['nums']\n",
    "    \n",
    "n_hidden = 32 * 8\n",
    "n_layers = 2\n",
    "n_hiddens = [n_hidden] * n_layers\n",
    "    \n",
    "air = AIRonMNIST(x, y,\n",
    "                max_steps=n_steps, \n",
    "                explore_eps=init_explore_eps,\n",
    "                inpt_encoder_hidden=n_hiddens,\n",
    "                glimpse_encoder_hidden=n_hiddens,\n",
    "                glimpse_decoder_hidden=n_hiddens,\n",
    "                transform_estimator_hidden=n_hiddens,\n",
    "                steps_pred_hidden=[128, 64],\n",
    "                baseline_hidden=[256, 128],\n",
    "                transform_var_bias=transform_var_bias,\n",
    "                step_bias=step_bias)"
   ]
  },
  {
   "cell_type": "code",
   "execution_count": 6,
   "metadata": {},
   "outputs": [],
   "source": [
    "train_step, global_step = air.train_step(learning_rate, l2_weight, appearance_prior, where_scale_prior,\n",
    "                            where_shift_prior, num_steps_prior)"
   ]
  },
  {
   "cell_type": "code",
   "execution_count": 7,
   "metadata": {
    "collapsed": true
   },
   "outputs": [],
   "source": [
    "config = tf.ConfigProto()\n",
    "config.gpu_options.allow_growth = True\n",
    "    \n",
    "sess = tf.Session(config=config)\n",
    "sess.run(tf.global_variables_initializer())\n",
    "all_summaries = tf.summary.merge_all()"
   ]
  },
  {
   "cell_type": "code",
   "execution_count": 8,
   "metadata": {
    "collapsed": true
   },
   "outputs": [],
   "source": [
    "summary_writer = tf.summary.FileWriter(logdir, sess.graph)\n",
    "saver = tf.train.Saver()"
   ]
  },
  {
   "cell_type": "code",
   "execution_count": 9,
   "metadata": {
    "collapsed": true,
    "scrolled": false
   },
   "outputs": [],
   "source": [
    "train_batches = train_data['imgs'].shape[0]\n",
    "valid_batches = valid_data['imgs'].shape[0]\n",
    "log = make_logger(air, sess, summary_writer, train_tensors, train_batches, valid_tensors, valid_batches)"
   ]
  },
  {
   "cell_type": "code",
   "execution_count": 10,
   "metadata": {
    "collapsed": true
   },
   "outputs": [],
   "source": [
    "import matplotlib.pyplot as plt\n",
    "import seaborn as sns"
   ]
  },
  {
   "cell_type": "code",
   "execution_count": 11,
   "metadata": {
    "collapsed": true
   },
   "outputs": [],
   "source": [
    "# sess.run(tf.global_variables_initializer())\n",
    "# # sess.run(air.step_bias.assign(3.))\n",
    "# # sess.run(air.transform_var_bias.assign(-10.))\n",
    "# data = []"
   ]
  },
  {
   "cell_type": "code",
   "execution_count": 12,
   "metadata": {},
   "outputs": [],
   "source": [
    "# for i in xrange(1000):\n",
    "#     _, res = sess.run([train_step, [global_step, air.rec_loss, air.prior_loss.value, air.num_step]])\n",
    "#     data.append(res)\n",
    "#     print res"
   ]
  },
  {
   "cell_type": "code",
   "execution_count": 13,
   "metadata": {},
   "outputs": [],
   "source": [
    "# d = np.asarray(data)\n",
    "# x, rec, prior, steps = np.split(d, 4, axis=1)\n",
    "# prior /= max(abs(prior))\n",
    "# rec /= max(abs(rec))\n",
    "\n",
    "# fig, ax = plt.subplots(1, 1)\n",
    "# ax.plot(x, rec, label='rec')\n",
    "# ax.plot(x, prior, label='prior')\n",
    "# ax.plot(x, steps, label='steps')\n",
    "# ax.legend(loc='best')\n",
    "# ax.grid(True)"
   ]
  },
  {
   "cell_type": "code",
   "execution_count": 66,
   "metadata": {},
   "outputs": [
    {
     "data": {
      "text/plain": [
       "[0]"
      ]
     },
     "execution_count": 66,
     "metadata": {},
     "output_type": "execute_result"
    }
   ],
   "source": [
    "sess.run(tf.global_variables_initializer())\n",
    "sess.run([global_step])"
   ]
  },
  {
   "cell_type": "code",
   "execution_count": null,
   "metadata": {
    "scrolled": true
   },
   "outputs": [
    {
     "name": "stdout",
     "output_type": "stream",
     "text": [
      "Starting training at iter = 0\n"
     ]
    }
   ],
   "source": [
    "train_itr = sess.run(global_step)\n",
    "print 'Starting training at iter = {}'.format(train_itr)\n",
    "\n",
    "if train_itr == 0:\n",
    "    log(0)\n",
    "\n",
    "while train_itr < 1e6:\n",
    "        \n",
    "    train_itr, _ = sess.run([global_step, train_step])\n",
    "    \n",
    "    if train_itr % 1000 == 0:\n",
    "        summaries = sess.run(all_summaries)\n",
    "        summary_writer.add_summary(summaries, train_itr)\n",
    "        \n",
    "    if train_itr % 1000 == 0:\n",
    "        log(train_itr)\n",
    "        \n",
    "    if train_itr % 5000 == 0:\n",
    "        saver.save(sess, checkpoint_name, global_step=train_itr)\n",
    "        make_fig(air, sess, logdir, train_itr)    "
   ]
  },
  {
   "cell_type": "code",
   "execution_count": null,
   "metadata": {},
   "outputs": [],
   "source": [
    "# make_fig(air, sess, n_samples=64)\n",
    "make_fig(air, sess, n_samples=32)"
   ]
  }
 ],
 "metadata": {
  "anaconda-cloud": {},
  "kernelspec": {
   "display_name": "Python [default]",
   "language": "python",
   "name": "python2"
  },
  "language_info": {
   "codemirror_mode": {
    "name": "ipython",
    "version": 2
   },
   "file_extension": ".py",
   "mimetype": "text/x-python",
   "name": "python",
   "nbconvert_exporter": "python",
   "pygments_lexer": "ipython2",
   "version": "2.7.12"
  }
 },
 "nbformat": 4,
 "nbformat_minor": 1
}
